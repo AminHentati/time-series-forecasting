{
 "cells": [
  {
   "cell_type": "markdown",
   "metadata": {
    "id": "GHhJ3Q57zKY0"
   },
   "source": [
    "# **Packages' Import**"
   ]
  },
  {
   "cell_type": "code",
   "execution_count": 1,
   "metadata": {
    "id": "fTLye-DwzRaD"
   },
   "outputs": [],
   "source": [
    "import pandas            as pd                                   # Library for Read/Write IO File (CSV, Excel, TXT, JSON, etc.)\n",
    "import matplotlib.pyplot as plt                                  # Library for plotting and figures\n",
    "from tensorflow.keras.models import Sequential                    # Importation of sequantial Model for LSTM\n",
    "from tensorflow.keras.layers import LSTM,Dense                    # Importation of LSTM Units\n",
    "from sklearn.metrics        import mean_squared_error            # Mean Squared Error for forecasting performance evaluation\n",
    "from sklearn.metrics        import mean_absolute_error           # Mean Absolute Error for forecasting performance evaluation\n",
    "from sklearn.metrics        import mean_absolute_percentage_error# MAPE for evaluation the percentage of error\n"
   ]
  },
  {
   "cell_type": "markdown",
   "metadata": {
    "id": "7pSuWj2Szyp9"
   },
   "source": [
    "# **Step 1 - Business & Data Understanding**"
   ]
  },
  {
   "cell_type": "markdown",
   "metadata": {
    "id": "t3SoI8lp1AsM"
   },
   "source": [
    "The goal of this step is to:\n",
    "* identify the number of samples;\n",
    "* identify the type of forecasting;\n",
    "* study the stationarity of your time series.\n"
   ]
  },
  {
   "cell_type": "code",
   "execution_count": 2,
   "metadata": {
    "colab": {
     "base_uri": "https://localhost:8080/",
     "height": 206
    },
    "id": "BoXorDCkzxR4",
    "outputId": "99c09c45-16ef-4e16-8b96-ce7ef1cb6f46"
   },
   "outputs": [
    {
     "data": {
      "text/html": [
       "<div>\n",
       "<style scoped>\n",
       "    .dataframe tbody tr th:only-of-type {\n",
       "        vertical-align: middle;\n",
       "    }\n",
       "\n",
       "    .dataframe tbody tr th {\n",
       "        vertical-align: top;\n",
       "    }\n",
       "\n",
       "    .dataframe thead th {\n",
       "        text-align: right;\n",
       "    }\n",
       "</style>\n",
       "<table border=\"1\" class=\"dataframe\">\n",
       "  <thead>\n",
       "    <tr style=\"text-align: right;\">\n",
       "      <th></th>\n",
       "      <th>Month</th>\n",
       "      <th>#Passengers</th>\n",
       "    </tr>\n",
       "  </thead>\n",
       "  <tbody>\n",
       "    <tr>\n",
       "      <th>0</th>\n",
       "      <td>1949-01</td>\n",
       "      <td>112</td>\n",
       "    </tr>\n",
       "    <tr>\n",
       "      <th>1</th>\n",
       "      <td>1949-02</td>\n",
       "      <td>118</td>\n",
       "    </tr>\n",
       "    <tr>\n",
       "      <th>2</th>\n",
       "      <td>1949-03</td>\n",
       "      <td>132</td>\n",
       "    </tr>\n",
       "    <tr>\n",
       "      <th>3</th>\n",
       "      <td>1949-04</td>\n",
       "      <td>129</td>\n",
       "    </tr>\n",
       "    <tr>\n",
       "      <th>4</th>\n",
       "      <td>1949-05</td>\n",
       "      <td>121</td>\n",
       "    </tr>\n",
       "  </tbody>\n",
       "</table>\n",
       "</div>"
      ],
      "text/plain": [
       "     Month  #Passengers\n",
       "0  1949-01          112\n",
       "1  1949-02          118\n",
       "2  1949-03          132\n",
       "3  1949-04          129\n",
       "4  1949-05          121"
      ]
     },
     "execution_count": 2,
     "metadata": {},
     "output_type": "execute_result"
    }
   ],
   "source": [
    "df=pd.read_csv(\"..\\data\\AirPassengers.csv\")        # Read dataset using read_csv(filepath) function\n",
    "df.head()                                               # Display the first five rows"
   ]
  },
  {
   "cell_type": "code",
   "execution_count": 3,
   "metadata": {
    "colab": {
     "base_uri": "https://localhost:8080/"
    },
    "id": "I-sLaMi80GmL",
    "outputId": "46eeb5eb-3466-411d-db61-9e2fc39c92eb"
   },
   "outputs": [
    {
     "name": "stdout",
     "output_type": "stream",
     "text": [
      "<class 'pandas.core.frame.DataFrame'>\n",
      "RangeIndex: 144 entries, 0 to 143\n",
      "Data columns (total 2 columns):\n",
      " #   Column       Non-Null Count  Dtype \n",
      "---  ------       --------------  ----- \n",
      " 0   Month        144 non-null    object\n",
      " 1   #Passengers  144 non-null    int64 \n",
      "dtypes: int64(1), object(1)\n",
      "memory usage: 2.4+ KB\n"
     ]
    }
   ],
   "source": [
    "df.info()"
   ]
  },
  {
   "cell_type": "markdown",
   "metadata": {
    "id": "hfZaVVUR4S0Z"
   },
   "source": [
    "This dataset includes:\n",
    "* 144 samples (12 years);\n",
    "* Monthly Sampled - Long Term;\n",
    "* the plot of the distribution of the time series is below. We notice that the staitonarity is covered withtin 15 values (Will be used as sequence length)"
   ]
  },
  {
   "cell_type": "code",
   "execution_count": 4,
   "metadata": {
    "colab": {
     "base_uri": "https://localhost:8080/",
     "height": 489
    },
    "id": "EvbPm9i_4EnX",
    "outputId": "e0eefcb9-6573-4971-aa1d-b7c92b72658e"
   },
   "outputs": [
    {
     "data": {
      "text/plain": [
       "Text(0.5, 1.0, 'Distribution of the Number of Passenger over 12 years')"
      ]
     },
     "execution_count": 4,
     "metadata": {},
     "output_type": "execute_result"
    },
    {
     "data": {
      "image/png": "[encoded data removed]",
      "text/plain": [
       "<Figure size 640x480 with 1 Axes>"
      ]
     },
     "metadata": {},
     "output_type": "display_data"
    }
   ],
   "source": [
    "plt.xlabel(\"Month\")\n",
    "plt.ylabel(\"Number of Passengers per Month\")\n",
    "plt.plot(df[\"#Passengers\"])\n",
    "plt.title(\"Distribution of the Number of Passenger over 12 years\")"
   ]
  },
  {
   "cell_type": "markdown",
   "metadata": {
    "id": "6YWfsqcD78Io"
   },
   "source": [
    "# **Step 2 - Data preparation**"
   ]
  },
  {
   "cell_type": "markdown",
   "metadata": {
    "id": "bedno4F_8Ixc"
   },
   "source": [
    "The goal of this step is to:\n",
    "* Construct the X and Y where X denotes the matrix features and y is the label vector;\n",
    "* Split dataset into training set and testing set: X_train,X_test,y_train,y_test."
   ]
  },
  {
   "cell_type": "markdown",
   "metadata": {
    "id": "cryDEezk8aNv"
   },
   "source": [
    "## **2.2. Data Loading**"
   ]
  },
  {
   "cell_type": "code",
   "execution_count": 5,
   "metadata": {
    "id": "cs3ekuS-4s76"
   },
   "outputs": [],
   "source": [
    "def load_data(data,seq_len):\n",
    "  X=[]\n",
    "  y=[]\n",
    "  for i in range(seq_len,len(data)):\n",
    "    X.append(data.iloc[i-seq_len:i,1])\n",
    "    y.append(data.iloc[i,1])\n",
    "  return X,y\n",
    "X,y=load_data(df,25)"
   ]
  },
  {
   "cell_type": "markdown",
   "metadata": {
    "id": "w-nOmrxE_KLd"
   },
   "source": [
    "## **2.2. Data Split**"
   ]
  },
  {
   "cell_type": "markdown",
   "metadata": {
    "id": "zcNe-idW_rFq"
   },
   "source": [
    "We split the dataset into 80% for train and 20% for test"
   ]
  },
  {
   "cell_type": "code",
   "execution_count": 6,
   "metadata": {
    "id": "2An8cO-b_wS_"
   },
   "outputs": [],
   "source": [
    "train_size=len(y)*0.8\n",
    "train_size=104"
   ]
  },
  {
   "cell_type": "code",
   "execution_count": 7,
   "metadata": {
    "id": "2JEvP3v8_EK-"
   },
   "outputs": [],
   "source": [
    "X_train=X[:train_size]\n",
    "y_train=y[:train_size]\n",
    "X_test=X[train_size:]\n",
    "y_test=y[train_size:]"
   ]
  },
  {
   "cell_type": "code",
   "execution_count": null,
   "metadata": {
    "colab": {
     "base_uri": "https://localhost:8080/"
    },
    "id": "ZMkGnsA7on47",
    "outputId": "e8c8ce15-2a5c-435b-8944-5bc781a3786b"
   },
   "outputs": [],
   "source": []
  },
  {
   "cell_type": "code",
   "execution_count": 8,
   "metadata": {
    "id": "y3vKc8vsm5F2"
   },
   "outputs": [],
   "source": [
    "import numpy as np\n",
    "X_train=np.array(X_train)\n",
    "y_train=np.array(y_train)\n",
    "y_test=np.array(y_test)\n",
    "X_test=np.array(X_test)\n",
    "X_train=X_train.reshape(104,25,1)\n",
    "X_test=X_test.reshape(15,25,1)"
   ]
  },
  {
   "cell_type": "markdown",
   "metadata": {
    "id": "XBU356f-BzJm"
   },
   "source": [
    "# **Step 3- Machine Learning**"
   ]
  },
  {
   "cell_type": "code",
   "execution_count": 9,
   "metadata": {
    "id": "n44DUab2B23Q"
   },
   "outputs": [
    {
     "name": "stderr",
     "output_type": "stream",
     "text": [
      "D:\\Users\\henta\\anaconda3\\Lib\\site-packages\\keras\\src\\layers\\rnn\\rnn.py:204: UserWarning: Do not pass an `input_shape`/`input_dim` argument to a layer. When using Sequential models, prefer using an `Input(shape)` object as the first layer in the model instead.\n",
      "  super().__init__(**kwargs)\n"
     ]
    }
   ],
   "source": [
    "model=Sequential()\n",
    "model.add(LSTM(20,input_shape=(25,1)))\n",
    "model.add(Dense(100))\n",
    "model.add(Dense(1))"
   ]
  },
  {
   "cell_type": "code",
   "execution_count": 10,
   "metadata": {
    "colab": {
     "base_uri": "https://localhost:8080/"
    },
    "id": "M5MR4hzhnUEG",
    "outputId": "2a732bcf-4a8a-436b-fac2-d2c4bd1ad8f3"
   },
   "outputs": [
    {
     "name": "stdout",
     "output_type": "stream",
     "text": [
      "Epoch 1/100\n",
      "52/52 - 5s - 106ms/step - loss: 91918.4297\n",
      "Epoch 2/100\n",
      "52/52 - 0s - 5ms/step - loss: 86187.2969\n",
      "Epoch 3/100\n",
      "52/52 - 0s - 5ms/step - loss: 69853.3984\n",
      "Epoch 4/100\n",
      "52/52 - 0s - 5ms/step - loss: 47478.6875\n",
      "Epoch 5/100\n",
      "52/52 - 0s - 5ms/step - loss: 27575.8086\n",
      "Epoch 6/100\n",
      "52/52 - 0s - 4ms/step - loss: 16110.5146\n",
      "Epoch 7/100\n",
      "52/52 - 0s - 5ms/step - loss: 11106.7861\n",
      "Epoch 8/100\n",
      "52/52 - 0s - 5ms/step - loss: 9422.6191\n",
      "Epoch 9/100\n",
      "52/52 - 0s - 5ms/step - loss: 8510.1348\n",
      "Epoch 10/100\n",
      "52/52 - 0s - 5ms/step - loss: 7627.7832\n",
      "Epoch 11/100\n",
      "52/52 - 0s - 5ms/step - loss: 6989.3491\n",
      "Epoch 12/100\n",
      "52/52 - 0s - 4ms/step - loss: 6110.0991\n",
      "Epoch 13/100\n",
      "52/52 - 0s - 4ms/step - loss: 5297.7422\n",
      "Epoch 14/100\n",
      "52/52 - 0s - 5ms/step - loss: 4888.7095\n",
      "Epoch 15/100\n",
      "52/52 - 0s - 4ms/step - loss: 4342.3975\n",
      "Epoch 16/100\n",
      "52/52 - 0s - 5ms/step - loss: 4031.7825\n",
      "Epoch 17/100\n",
      "52/52 - 0s - 5ms/step - loss: 3981.6150\n",
      "Epoch 18/100\n",
      "52/52 - 0s - 4ms/step - loss: 3536.4236\n",
      "Epoch 19/100\n",
      "52/52 - 0s - 4ms/step - loss: 2998.6436\n",
      "Epoch 20/100\n",
      "52/52 - 0s - 5ms/step - loss: 2793.2869\n",
      "Epoch 21/100\n",
      "52/52 - 0s - 5ms/step - loss: 2722.2085\n",
      "Epoch 22/100\n",
      "52/52 - 0s - 5ms/step - loss: 2251.9673\n",
      "Epoch 23/100\n",
      "52/52 - 0s - 4ms/step - loss: 2341.0901\n",
      "Epoch 24/100\n",
      "52/52 - 0s - 5ms/step - loss: 2242.8970\n",
      "Epoch 25/100\n",
      "52/52 - 0s - 4ms/step - loss: 1840.7554\n",
      "Epoch 26/100\n",
      "52/52 - 0s - 5ms/step - loss: 1880.9174\n",
      "Epoch 27/100\n",
      "52/52 - 0s - 5ms/step - loss: 1756.6239\n",
      "Epoch 28/100\n",
      "52/52 - 0s - 5ms/step - loss: 1905.5005\n",
      "Epoch 29/100\n",
      "52/52 - 0s - 4ms/step - loss: 1523.5818\n",
      "Epoch 30/100\n",
      "52/52 - 0s - 5ms/step - loss: 1594.4788\n",
      "Epoch 31/100\n",
      "52/52 - 0s - 5ms/step - loss: 1518.9387\n",
      "Epoch 32/100\n",
      "52/52 - 0s - 5ms/step - loss: 1401.0610\n",
      "Epoch 33/100\n",
      "52/52 - 0s - 5ms/step - loss: 1375.0571\n",
      "Epoch 34/100\n",
      "52/52 - 0s - 5ms/step - loss: 1326.7017\n",
      "Epoch 35/100\n",
      "52/52 - 0s - 5ms/step - loss: 1339.5760\n",
      "Epoch 36/100\n",
      "52/52 - 0s - 4ms/step - loss: 1361.1681\n",
      "Epoch 37/100\n",
      "52/52 - 0s - 5ms/step - loss: 1298.7251\n",
      "Epoch 38/100\n",
      "52/52 - 0s - 4ms/step - loss: 1686.0725\n",
      "Epoch 39/100\n",
      "52/52 - 0s - 4ms/step - loss: 1469.6560\n",
      "Epoch 40/100\n",
      "52/52 - 0s - 5ms/step - loss: 1559.9109\n",
      "Epoch 41/100\n",
      "52/52 - 0s - 5ms/step - loss: 1408.3510\n",
      "Epoch 42/100\n",
      "52/52 - 0s - 4ms/step - loss: 1539.1608\n",
      "Epoch 43/100\n",
      "52/52 - 0s - 4ms/step - loss: 1449.3320\n",
      "Epoch 44/100\n",
      "52/52 - 0s - 5ms/step - loss: 1221.1586\n",
      "Epoch 45/100\n",
      "52/52 - 0s - 5ms/step - loss: 1276.2599\n",
      "Epoch 46/100\n",
      "52/52 - 0s - 5ms/step - loss: 1634.0833\n",
      "Epoch 47/100\n",
      "52/52 - 0s - 5ms/step - loss: 1144.4706\n",
      "Epoch 48/100\n",
      "52/52 - 0s - 5ms/step - loss: 1196.9178\n",
      "Epoch 49/100\n",
      "52/52 - 0s - 5ms/step - loss: 1281.0084\n",
      "Epoch 50/100\n",
      "52/52 - 0s - 5ms/step - loss: 1111.1355\n",
      "Epoch 51/100\n",
      "52/52 - 0s - 4ms/step - loss: 1256.4155\n",
      "Epoch 52/100\n",
      "52/52 - 0s - 4ms/step - loss: 1260.4260\n",
      "Epoch 53/100\n",
      "52/52 - 0s - 5ms/step - loss: 1083.7616\n",
      "Epoch 54/100\n",
      "52/52 - 0s - 5ms/step - loss: 1236.7415\n",
      "Epoch 55/100\n",
      "52/52 - 0s - 5ms/step - loss: 1244.9412\n",
      "Epoch 56/100\n",
      "52/52 - 0s - 4ms/step - loss: 1516.5825\n",
      "Epoch 57/100\n",
      "52/52 - 0s - 4ms/step - loss: 1214.8777\n",
      "Epoch 58/100\n",
      "52/52 - 0s - 5ms/step - loss: 1125.5577\n",
      "Epoch 59/100\n",
      "52/52 - 0s - 5ms/step - loss: 1095.2056\n",
      "Epoch 60/100\n",
      "52/52 - 0s - 5ms/step - loss: 1173.8346\n",
      "Epoch 61/100\n",
      "52/52 - 0s - 5ms/step - loss: 1156.5356\n",
      "Epoch 62/100\n",
      "52/52 - 0s - 5ms/step - loss: 1247.0460\n",
      "Epoch 63/100\n",
      "52/52 - 0s - 5ms/step - loss: 1111.4104\n",
      "Epoch 64/100\n",
      "52/52 - 0s - 5ms/step - loss: 1052.0815\n",
      "Epoch 65/100\n",
      "52/52 - 0s - 5ms/step - loss: 1275.9552\n",
      "Epoch 66/100\n",
      "52/52 - 0s - 5ms/step - loss: 1096.8361\n",
      "Epoch 67/100\n",
      "52/52 - 0s - 5ms/step - loss: 1141.7581\n",
      "Epoch 68/100\n",
      "52/52 - 0s - 5ms/step - loss: 1036.2134\n",
      "Epoch 69/100\n",
      "52/52 - 0s - 5ms/step - loss: 1108.5552\n",
      "Epoch 70/100\n",
      "52/52 - 0s - 5ms/step - loss: 1346.5662\n",
      "Epoch 71/100\n",
      "52/52 - 0s - 5ms/step - loss: 1080.4550\n",
      "Epoch 72/100\n",
      "52/52 - 0s - 5ms/step - loss: 1143.6108\n",
      "Epoch 73/100\n",
      "52/52 - 0s - 5ms/step - loss: 1075.0869\n",
      "Epoch 74/100\n",
      "52/52 - 0s - 5ms/step - loss: 1424.5665\n",
      "Epoch 75/100\n",
      "52/52 - 0s - 5ms/step - loss: 1071.4425\n",
      "Epoch 76/100\n",
      "52/52 - 0s - 5ms/step - loss: 1228.2118\n",
      "Epoch 77/100\n",
      "52/52 - 0s - 5ms/step - loss: 1154.8561\n",
      "Epoch 78/100\n",
      "52/52 - 0s - 5ms/step - loss: 1052.0704\n",
      "Epoch 79/100\n",
      "52/52 - 0s - 5ms/step - loss: 1460.5725\n",
      "Epoch 80/100\n",
      "52/52 - 0s - 5ms/step - loss: 1115.1152\n",
      "Epoch 81/100\n",
      "52/52 - 0s - 5ms/step - loss: 1124.7804\n",
      "Epoch 82/100\n",
      "52/52 - 0s - 5ms/step - loss: 1364.6622\n",
      "Epoch 83/100\n",
      "52/52 - 0s - 5ms/step - loss: 1074.9581\n",
      "Epoch 84/100\n",
      "52/52 - 0s - 5ms/step - loss: 990.0932\n",
      "Epoch 85/100\n",
      "52/52 - 0s - 4ms/step - loss: 1104.4070\n",
      "Epoch 86/100\n",
      "52/52 - 0s - 4ms/step - loss: 1272.2343\n",
      "Epoch 87/100\n",
      "52/52 - 0s - 4ms/step - loss: 1190.4677\n",
      "Epoch 88/100\n",
      "52/52 - 0s - 4ms/step - loss: 1163.6587\n",
      "Epoch 89/100\n",
      "52/52 - 0s - 5ms/step - loss: 1037.4779\n",
      "Epoch 90/100\n",
      "52/52 - 0s - 4ms/step - loss: 1144.9735\n",
      "Epoch 91/100\n",
      "52/52 - 0s - 5ms/step - loss: 1322.5286\n",
      "Epoch 92/100\n",
      "52/52 - 0s - 5ms/step - loss: 1304.5737\n",
      "Epoch 93/100\n",
      "52/52 - 0s - 5ms/step - loss: 976.4527\n",
      "Epoch 94/100\n",
      "52/52 - 0s - 5ms/step - loss: 1053.0475\n",
      "Epoch 95/100\n",
      "52/52 - 0s - 5ms/step - loss: 1164.2579\n",
      "Epoch 96/100\n",
      "52/52 - 0s - 5ms/step - loss: 1075.7808\n",
      "Epoch 97/100\n",
      "52/52 - 0s - 5ms/step - loss: 1018.6412\n",
      "Epoch 98/100\n",
      "52/52 - 0s - 5ms/step - loss: 1145.1753\n",
      "Epoch 99/100\n",
      "52/52 - 0s - 5ms/step - loss: 1305.7411\n",
      "Epoch 100/100\n",
      "52/52 - 0s - 5ms/step - loss: 1118.1007\n"
     ]
    },
    {
     "data": {
      "text/plain": [
       "<keras.src.callbacks.history.History at 0x1c630f12a50>"
      ]
     },
     "execution_count": 10,
     "metadata": {},
     "output_type": "execute_result"
    }
   ],
   "source": [
    "model.compile(loss='mean_squared_error', optimizer='adam')\n",
    "model.fit(X_train, y_train, epochs=100, batch_size=2, verbose=2)"
   ]
  },
  {
   "cell_type": "markdown",
   "metadata": {
    "id": "OsGZhA6HCkLz"
   },
   "source": [
    "# **Step 4- Performance Evaluation**"
   ]
  },
  {
   "cell_type": "code",
   "execution_count": 11,
   "metadata": {
    "colab": {
     "base_uri": "https://localhost:8080/"
    },
    "id": "CgqrgysDCfFc",
    "outputId": "57dc3c1b-853f-4a34-8a0e-076f11997db3"
   },
   "outputs": [
    {
     "name": "stdout",
     "output_type": "stream",
     "text": [
      " **** Performance of LSTM *****\n",
      "\u001b[1m1/1\u001b[0m \u001b[32m━━━━━━━━━━━━━━━━━━━━\u001b[0m\u001b[37m\u001b[0m \u001b[1m0s\u001b[0m 205ms/step\n",
      "MSE=  3567.248234790812\n",
      "MAE=  45.550052897135416\n",
      "MAPEE=  0.09306921295497521\n"
     ]
    }
   ],
   "source": [
    "print(\" **** Performance of LSTM *****\")\n",
    "y_pred_lstm=model.predict(X_test)\n",
    "mse=mean_squared_error(y_test,y_pred_lstm)\n",
    "mae=mean_absolute_error(y_test,y_pred_lstm)\n",
    "mape=mean_absolute_percentage_error(y_test,y_pred_lstm)\n",
    "print(\"MSE= \",mse)\n",
    "print(\"MAE= \",mae)\n",
    "print(\"MAPEE= \",mape)\n"
   ]
  },
  {
   "cell_type": "code",
   "execution_count": 12,
   "metadata": {
    "colab": {
     "base_uri": "https://localhost:8080/",
     "height": 489
    },
    "id": "_rqeN1BUDBr5",
    "outputId": "fb6d6d50-becf-42bb-bd0b-716e6d449614"
   },
   "outputs": [
    {
     "data": {
      "text/plain": [
       "<matplotlib.legend.Legend at 0x1c632724650>"
      ]
     },
     "execution_count": 12,
     "metadata": {},
     "output_type": "execute_result"
    },
    {
     "data": {
      "image/png": "[encoded data removed]",
      "text/plain": [
       "<Figure size 640x480 with 1 Axes>"
      ]
     },
     "metadata": {},
     "output_type": "display_data"
    }
   ],
   "source": [
    "plt.xlabel(\"Month\")\n",
    "plt.ylabel(\"Number of Passenger\")\n",
    "plt.plot(y_test,color='red',label='Real')\n",
    "plt.plot(y_pred_lstm,color='blue',label='LSTM Regression')\n",
    "plt.title(\"ML Experimental Study for Airline Passengers Forecasting\")\n",
    "plt.legend()"
   ]
  }
 ],
 "metadata": {
  "colab": {
   "provenance": []
  },
  "kernelspec": {
   "display_name": "Python 3 (ipykernel)",
   "language": "python",
   "name": "python3"
  },
  "language_info": {
   "codemirror_mode": {
    "name": "ipython",
    "version": 3
   },
   "file_extension": ".py",
   "mimetype": "text/x-python",
   "name": "python",
   "nbconvert_exporter": "python",
   "pygments_lexer": "ipython3",
   "version": "3.11.5"
  }
 },
 "nbformat": 4,
 "nbformat_minor": 4
}
