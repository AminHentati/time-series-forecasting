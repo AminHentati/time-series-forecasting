{
 "cells": [
  {
   "cell_type": "markdown",
   "metadata": {
    "id": "GHhJ3Q57zKY0"
   },
   "source": [
    "# **Packages' Import**"
   ]
  },
  {
   "cell_type": "code",
   "execution_count": 7,
   "metadata": {
    "id": "fTLye-DwzRaD"
   },
   "outputs": [],
   "source": [
    "import pandas            as pd                                   # Library for Read/Write IO File (CSV, Excel, TXT, JSON, etc.)\n",
    "import matplotlib.pyplot as plt                                  # Library for plotting and figures\n",
    "from tensorflow.keras.models import Sequential                    # Importation of sequantial Model for LSTM\n",
    "from tensorflow.keras.layers import LSTM,Dense                    # Importation of LSTM Units\n",
    "from sklearn.metrics        import mean_squared_error            # Mean Squared Error for forecasting performance evaluation\n",
    "from sklearn.metrics        import mean_absolute_error           # Mean Absolute Error for forecasting performance evaluation\n",
    "from sklearn.metrics        import mean_absolute_percentage_error# MAPE for evaluation the percentage of error\n"
   ]
  },
  {
   "cell_type": "markdown",
   "metadata": {
    "id": "7pSuWj2Szyp9"
   },
   "source": [
    "# **Step 1 - Business & Data Understanding**"
   ]
  },
  {
   "cell_type": "markdown",
   "metadata": {
    "id": "t3SoI8lp1AsM"
   },
   "source": [
    "The goal of this step is to:\n",
    "* identify the number of samples;\n",
    "* identify the type of forecasting;\n",
    "* study the stationarity of your time series.\n"
   ]
  },
  {
   "cell_type": "code",
   "execution_count": 8,
   "metadata": {
    "colab": {
     "base_uri": "https://localhost:8080/",
     "height": 206
    },
    "id": "BoXorDCkzxR4",
    "outputId": "99c09c45-16ef-4e16-8b96-ce7ef1cb6f46"
   },
   "outputs": [
    {
     "data": {
      "text/html": [
       "<div>\n",
       "<style scoped>\n",
       "    .dataframe tbody tr th:only-of-type {\n",
       "        vertical-align: middle;\n",
       "    }\n",
       "\n",
       "    .dataframe tbody tr th {\n",
       "        vertical-align: top;\n",
       "    }\n",
       "\n",
       "    .dataframe thead th {\n",
       "        text-align: right;\n",
       "    }\n",
       "</style>\n",
       "<table border=\"1\" class=\"dataframe\">\n",
       "  <thead>\n",
       "    <tr style=\"text-align: right;\">\n",
       "      <th></th>\n",
       "      <th>Month</th>\n",
       "      <th>#Passengers</th>\n",
       "    </tr>\n",
       "  </thead>\n",
       "  <tbody>\n",
       "    <tr>\n",
       "      <th>0</th>\n",
       "      <td>1949-01</td>\n",
       "      <td>112</td>\n",
       "    </tr>\n",
       "    <tr>\n",
       "      <th>1</th>\n",
       "      <td>1949-02</td>\n",
       "      <td>118</td>\n",
       "    </tr>\n",
       "    <tr>\n",
       "      <th>2</th>\n",
       "      <td>1949-03</td>\n",
       "      <td>132</td>\n",
       "    </tr>\n",
       "    <tr>\n",
       "      <th>3</th>\n",
       "      <td>1949-04</td>\n",
       "      <td>129</td>\n",
       "    </tr>\n",
       "    <tr>\n",
       "      <th>4</th>\n",
       "      <td>1949-05</td>\n",
       "      <td>121</td>\n",
       "    </tr>\n",
       "  </tbody>\n",
       "</table>\n",
       "</div>"
      ],
      "text/plain": [
       "     Month  #Passengers\n",
       "0  1949-01          112\n",
       "1  1949-02          118\n",
       "2  1949-03          132\n",
       "3  1949-04          129\n",
       "4  1949-05          121"
      ]
     },
     "execution_count": 8,
     "metadata": {},
     "output_type": "execute_result"
    }
   ],
   "source": [
    "df=pd.read_csv(\"AirPassengers.csv\")        # Read dataset using read_csv(filepath) function\n",
    "df.head()                                               # Display the first five rows"
   ]
  },
  {
   "cell_type": "code",
   "execution_count": 9,
   "metadata": {
    "colab": {
     "base_uri": "https://localhost:8080/"
    },
    "id": "I-sLaMi80GmL",
    "outputId": "46eeb5eb-3466-411d-db61-9e2fc39c92eb"
   },
   "outputs": [
    {
     "name": "stdout",
     "output_type": "stream",
     "text": [
      "<class 'pandas.core.frame.DataFrame'>\n",
      "RangeIndex: 144 entries, 0 to 143\n",
      "Data columns (total 2 columns):\n",
      " #   Column       Non-Null Count  Dtype \n",
      "---  ------       --------------  ----- \n",
      " 0   Month        144 non-null    object\n",
      " 1   #Passengers  144 non-null    int64 \n",
      "dtypes: int64(1), object(1)\n",
      "memory usage: 2.4+ KB\n"
     ]
    }
   ],
   "source": [
    "df.info()"
   ]
  },
  {
   "cell_type": "markdown",
   "metadata": {
    "id": "hfZaVVUR4S0Z"
   },
   "source": [
    "This dataset includes:\n",
    "* 144 samples (12 years);\n",
    "* Monthly Sampled - Long Term;\n",
    "* the plot of the distribution of the time series is below. We notice that the staitonarity is covered withtin 15 values (Will be used as sequence length)"
   ]
  },
  {
   "cell_type": "code",
   "execution_count": 10,
   "metadata": {
    "colab": {
     "base_uri": "https://localhost:8080/",
     "height": 489
    },
    "id": "EvbPm9i_4EnX",
    "outputId": "e0eefcb9-6573-4971-aa1d-b7c92b72658e"
   },
   "outputs": [
    {
     "data": {
      "text/plain": [
       "Text(0.5, 1.0, 'Distribution of the Number of Passenger over 12 years')"
      ]
     },
     "execution_count": 10,
     "metadata": {},
     "output_type": "execute_result"
    },
    {
     "data": {
      "image/png": "[encoded data removed]",
      "text/plain": [
       "<Figure size 640x480 with 1 Axes>"
      ]
     },
     "metadata": {},
     "output_type": "display_data"
    }
   ],
   "source": [
    "plt.xlabel(\"Month\")\n",
    "plt.ylabel(\"Number of Passengers per Month\")\n",
    "plt.plot(df[\"#Passengers\"])\n",
    "plt.title(\"Distribution of the Number of Passenger over 12 years\")"
   ]
  },
  {
   "cell_type": "markdown",
   "metadata": {
    "id": "6YWfsqcD78Io"
   },
   "source": [
    "# **Step 2 - Data preparation**"
   ]
  },
  {
   "cell_type": "markdown",
   "metadata": {
    "id": "bedno4F_8Ixc"
   },
   "source": [
    "The goal of this step is to:\n",
    "* Construct the X and Y where X denotes the matrix features and y is the label vector;\n",
    "* Split dataset into training set and testing set: X_train,X_test,y_train,y_test."
   ]
  },
  {
   "cell_type": "markdown",
   "metadata": {
    "id": "cryDEezk8aNv"
   },
   "source": [
    "## **2.2. Data Loading**"
   ]
  },
  {
   "cell_type": "code",
   "execution_count": 11,
   "metadata": {
    "id": "cs3ekuS-4s76"
   },
   "outputs": [],
   "source": [
    "def load_data(data,seq_len):\n",
    "  X=[]\n",
    "  y=[]\n",
    "  for i in range(seq_len,len(data)):\n",
    "    X.append(data.iloc[i-seq_len:i,1])\n",
    "    y.append(data.iloc[i,1])\n",
    "  return X,y\n",
    "X,y=load_data(df,25)"
   ]
  },
  {
   "cell_type": "markdown",
   "metadata": {
    "id": "w-nOmrxE_KLd"
   },
   "source": [
    "## **2.2. Data Split**"
   ]
  },
  {
   "cell_type": "markdown",
   "metadata": {
    "id": "zcNe-idW_rFq"
   },
   "source": [
    "We split the dataset into 80% for train and 20% for test"
   ]
  },
  {
   "cell_type": "code",
   "execution_count": 12,
   "metadata": {
    "id": "2An8cO-b_wS_"
   },
   "outputs": [],
   "source": [
    "train_size=len(y)*0.8\n",
    "train_size=104"
   ]
  },
  {
   "cell_type": "code",
   "execution_count": 13,
   "metadata": {
    "id": "2JEvP3v8_EK-"
   },
   "outputs": [],
   "source": [
    "X_train=X[:train_size]\n",
    "y_train=y[:train_size]\n",
    "X_test=X[train_size:]\n",
    "y_test=y[train_size:]"
   ]
  },
  {
   "cell_type": "code",
   "execution_count": null,
   "metadata": {
    "colab": {
     "base_uri": "https://localhost:8080/"
    },
    "id": "ZMkGnsA7on47",
    "outputId": "e8c8ce15-2a5c-435b-8944-5bc781a3786b"
   },
   "outputs": [],
   "source": []
  },
  {
   "cell_type": "code",
   "execution_count": 14,
   "metadata": {
    "id": "y3vKc8vsm5F2"
   },
   "outputs": [],
   "source": [
    "import numpy as np\n",
    "X_train=np.array(X_train)\n",
    "y_train=np.array(y_train)\n",
    "y_test=np.array(y_test)\n",
    "X_test=np.array(X_test)\n",
    "X_train=X_train.reshape(104,25,1)\n",
    "X_test=X_test.reshape(15,25,1)"
   ]
  },
  {
   "cell_type": "markdown",
   "metadata": {
    "id": "XBU356f-BzJm"
   },
   "source": [
    "# **Step 3- Machine Learning**"
   ]
  },
  {
   "cell_type": "code",
   "execution_count": 15,
   "metadata": {
    "id": "n44DUab2B23Q"
   },
   "outputs": [
    {
     "name": "stderr",
     "output_type": "stream",
     "text": [
      "D:\\Users\\henta\\anaconda3\\Lib\\site-packages\\keras\\src\\layers\\rnn\\rnn.py:204: UserWarning: Do not pass an `input_shape`/`input_dim` argument to a layer. When using Sequential models, prefer using an `Input(shape)` object as the first layer in the model instead.\n",
      "  super().__init__(**kwargs)\n"
     ]
    }
   ],
   "source": [
    "model=Sequential()\n",
    "model.add(LSTM(20,input_shape=(25,1)))\n",
    "model.add(Dense(100))\n",
    "model.add(Dense(1))"
   ]
  },
  {
   "cell_type": "code",
   "execution_count": 16,
   "metadata": {
    "colab": {
     "base_uri": "https://localhost:8080/"
    },
    "id": "M5MR4hzhnUEG",
    "outputId": "2a732bcf-4a8a-436b-fac2-d2c4bd1ad8f3"
   },
   "outputs": [
    {
     "name": "stdout",
     "output_type": "stream",
     "text": [
      "Epoch 1/100\n",
      "52/52 - 6s - 107ms/step - loss: 91370.6094\n",
      "Epoch 2/100\n",
      "52/52 - 0s - 5ms/step - loss: 84843.8672\n",
      "Epoch 3/100\n",
      "52/52 - 0s - 4ms/step - loss: 73943.6562\n",
      "Epoch 4/100\n",
      "52/52 - 0s - 4ms/step - loss: 56919.9922\n",
      "Epoch 5/100\n",
      "52/52 - 0s - 4ms/step - loss: 38041.1523\n",
      "Epoch 6/100\n",
      "52/52 - 0s - 4ms/step - loss: 24028.5449\n",
      "Epoch 7/100\n",
      "52/52 - 0s - 5ms/step - loss: 15387.6924\n",
      "Epoch 8/100\n",
      "52/52 - 0s - 5ms/step - loss: 11212.1240\n",
      "Epoch 9/100\n",
      "52/52 - 0s - 5ms/step - loss: 9260.4395\n",
      "Epoch 10/100\n",
      "52/52 - 0s - 5ms/step - loss: 7818.7026\n",
      "Epoch 11/100\n",
      "52/52 - 0s - 5ms/step - loss: 6861.1802\n",
      "Epoch 12/100\n",
      "52/52 - 0s - 4ms/step - loss: 6536.7793\n",
      "Epoch 13/100\n",
      "52/52 - 0s - 5ms/step - loss: 5678.5859\n",
      "Epoch 14/100\n",
      "52/52 - 0s - 5ms/step - loss: 4335.0186\n",
      "Epoch 15/100\n",
      "52/52 - 0s - 4ms/step - loss: 3497.9897\n",
      "Epoch 16/100\n",
      "52/52 - 0s - 4ms/step - loss: 2838.3555\n",
      "Epoch 17/100\n",
      "52/52 - 0s - 4ms/step - loss: 2546.9536\n",
      "Epoch 18/100\n",
      "52/52 - 0s - 4ms/step - loss: 2457.1274\n",
      "Epoch 19/100\n",
      "52/52 - 0s - 5ms/step - loss: 1933.3738\n",
      "Epoch 20/100\n",
      "52/52 - 0s - 5ms/step - loss: 1959.8892\n",
      "Epoch 21/100\n",
      "52/52 - 0s - 5ms/step - loss: 1637.3229\n",
      "Epoch 22/100\n",
      "52/52 - 0s - 4ms/step - loss: 1737.7969\n",
      "Epoch 23/100\n",
      "52/52 - 0s - 4ms/step - loss: 1640.3741\n",
      "Epoch 24/100\n",
      "52/52 - 0s - 5ms/step - loss: 1550.4386\n",
      "Epoch 25/100\n",
      "52/52 - 0s - 4ms/step - loss: 1460.6055\n",
      "Epoch 26/100\n",
      "52/52 - 0s - 8ms/step - loss: 1494.9402\n",
      "Epoch 27/100\n",
      "52/52 - 0s - 4ms/step - loss: 1335.9563\n",
      "Epoch 28/100\n",
      "52/52 - 0s - 4ms/step - loss: 1623.1108\n",
      "Epoch 29/100\n",
      "52/52 - 0s - 5ms/step - loss: 1488.2605\n",
      "Epoch 30/100\n",
      "52/52 - 0s - 5ms/step - loss: 1707.5790\n",
      "Epoch 31/100\n",
      "52/52 - 0s - 5ms/step - loss: 1388.1647\n",
      "Epoch 32/100\n",
      "52/52 - 0s - 5ms/step - loss: 1304.6036\n",
      "Epoch 33/100\n",
      "52/52 - 0s - 5ms/step - loss: 1434.7157\n",
      "Epoch 34/100\n",
      "52/52 - 0s - 6ms/step - loss: 1232.1135\n",
      "Epoch 35/100\n",
      "52/52 - 0s - 6ms/step - loss: 1317.7991\n",
      "Epoch 36/100\n",
      "52/52 - 0s - 5ms/step - loss: 1393.4928\n",
      "Epoch 37/100\n",
      "52/52 - 0s - 4ms/step - loss: 1170.9510\n",
      "Epoch 38/100\n",
      "52/52 - 0s - 4ms/step - loss: 1226.1824\n",
      "Epoch 39/100\n",
      "52/52 - 0s - 5ms/step - loss: 1166.5623\n",
      "Epoch 40/100\n",
      "52/52 - 0s - 4ms/step - loss: 1243.4680\n",
      "Epoch 41/100\n",
      "52/52 - 0s - 4ms/step - loss: 1134.3325\n",
      "Epoch 42/100\n",
      "52/52 - 0s - 6ms/step - loss: 1273.1606\n",
      "Epoch 43/100\n",
      "52/52 - 0s - 4ms/step - loss: 1375.9174\n",
      "Epoch 44/100\n",
      "52/52 - 0s - 4ms/step - loss: 1121.3247\n",
      "Epoch 45/100\n",
      "52/52 - 0s - 4ms/step - loss: 1170.1815\n",
      "Epoch 46/100\n",
      "52/52 - 0s - 4ms/step - loss: 1152.4834\n",
      "Epoch 47/100\n",
      "52/52 - 0s - 4ms/step - loss: 1315.2874\n",
      "Epoch 48/100\n",
      "52/52 - 0s - 5ms/step - loss: 1372.7612\n",
      "Epoch 49/100\n",
      "52/52 - 0s - 4ms/step - loss: 1046.1517\n",
      "Epoch 50/100\n",
      "52/52 - 0s - 5ms/step - loss: 1387.5040\n",
      "Epoch 51/100\n",
      "52/52 - 0s - 5ms/step - loss: 1009.2545\n",
      "Epoch 52/100\n",
      "52/52 - 0s - 5ms/step - loss: 1051.2848\n",
      "Epoch 53/100\n",
      "52/52 - 0s - 5ms/step - loss: 1429.0482\n",
      "Epoch 54/100\n",
      "52/52 - 0s - 5ms/step - loss: 1296.9377\n",
      "Epoch 55/100\n",
      "52/52 - 0s - 5ms/step - loss: 1027.4335\n",
      "Epoch 56/100\n",
      "52/52 - 0s - 5ms/step - loss: 1120.0884\n",
      "Epoch 57/100\n",
      "52/52 - 0s - 4ms/step - loss: 1076.8005\n",
      "Epoch 58/100\n",
      "52/52 - 0s - 5ms/step - loss: 1199.5839\n",
      "Epoch 59/100\n",
      "52/52 - 0s - 4ms/step - loss: 1354.1206\n",
      "Epoch 60/100\n",
      "52/52 - 0s - 4ms/step - loss: 1050.7844\n",
      "Epoch 61/100\n",
      "52/52 - 0s - 4ms/step - loss: 1090.6409\n",
      "Epoch 62/100\n",
      "52/52 - 0s - 5ms/step - loss: 970.6674\n",
      "Epoch 63/100\n",
      "52/52 - 0s - 5ms/step - loss: 1253.5945\n",
      "Epoch 64/100\n",
      "52/52 - 0s - 6ms/step - loss: 1086.0630\n",
      "Epoch 65/100\n",
      "52/52 - 0s - 6ms/step - loss: 1019.1341\n",
      "Epoch 66/100\n",
      "52/52 - 0s - 5ms/step - loss: 1009.9277\n",
      "Epoch 67/100\n",
      "52/52 - 0s - 4ms/step - loss: 1073.8796\n",
      "Epoch 68/100\n",
      "52/52 - 0s - 4ms/step - loss: 1007.2490\n",
      "Epoch 69/100\n",
      "52/52 - 0s - 4ms/step - loss: 1073.9504\n",
      "Epoch 70/100\n",
      "52/52 - 0s - 4ms/step - loss: 1033.3206\n",
      "Epoch 71/100\n",
      "52/52 - 0s - 4ms/step - loss: 1072.2871\n",
      "Epoch 72/100\n",
      "52/52 - 0s - 5ms/step - loss: 1202.8062\n",
      "Epoch 73/100\n",
      "52/52 - 0s - 4ms/step - loss: 1063.0558\n",
      "Epoch 74/100\n",
      "52/52 - 0s - 4ms/step - loss: 964.2762\n",
      "Epoch 75/100\n",
      "52/52 - 0s - 4ms/step - loss: 1032.7563\n",
      "Epoch 76/100\n",
      "52/52 - 0s - 4ms/step - loss: 1009.0428\n",
      "Epoch 77/100\n",
      "52/52 - 0s - 5ms/step - loss: 1108.9285\n",
      "Epoch 78/100\n",
      "52/52 - 0s - 4ms/step - loss: 1070.9241\n",
      "Epoch 79/100\n",
      "52/52 - 0s - 4ms/step - loss: 912.4137\n",
      "Epoch 80/100\n",
      "52/52 - 0s - 4ms/step - loss: 1130.4907\n",
      "Epoch 81/100\n",
      "52/52 - 0s - 4ms/step - loss: 969.6872\n",
      "Epoch 82/100\n",
      "52/52 - 0s - 4ms/step - loss: 870.6097\n",
      "Epoch 83/100\n",
      "52/52 - 0s - 4ms/step - loss: 1059.9122\n",
      "Epoch 84/100\n",
      "52/52 - 0s - 4ms/step - loss: 1382.5438\n",
      "Epoch 85/100\n",
      "52/52 - 0s - 4ms/step - loss: 1042.8904\n",
      "Epoch 86/100\n",
      "52/52 - 0s - 4ms/step - loss: 1153.9797\n",
      "Epoch 87/100\n",
      "52/52 - 0s - 5ms/step - loss: 1098.2057\n",
      "Epoch 88/100\n",
      "52/52 - 0s - 5ms/step - loss: 938.8209\n",
      "Epoch 89/100\n",
      "52/52 - 0s - 5ms/step - loss: 981.8295\n",
      "Epoch 90/100\n",
      "52/52 - 0s - 4ms/step - loss: 1027.1689\n",
      "Epoch 91/100\n",
      "52/52 - 0s - 4ms/step - loss: 950.4511\n",
      "Epoch 92/100\n",
      "52/52 - 0s - 6ms/step - loss: 978.8774\n",
      "Epoch 93/100\n",
      "52/52 - 0s - 4ms/step - loss: 1233.2307\n",
      "Epoch 94/100\n",
      "52/52 - 0s - 4ms/step - loss: 1575.7468\n",
      "Epoch 95/100\n",
      "52/52 - 0s - 4ms/step - loss: 1077.1522\n",
      "Epoch 96/100\n",
      "52/52 - 0s - 4ms/step - loss: 944.1114\n",
      "Epoch 97/100\n",
      "52/52 - 0s - 4ms/step - loss: 953.2145\n",
      "Epoch 98/100\n",
      "52/52 - 0s - 4ms/step - loss: 945.6244\n",
      "Epoch 99/100\n",
      "52/52 - 0s - 4ms/step - loss: 963.2910\n",
      "Epoch 100/100\n",
      "52/52 - 0s - 4ms/step - loss: 935.5716\n"
     ]
    },
    {
     "data": {
      "text/plain": [
       "<keras.src.callbacks.history.History at 0x15a04fdf550>"
      ]
     },
     "execution_count": 16,
     "metadata": {},
     "output_type": "execute_result"
    }
   ],
   "source": [
    "model.compile(loss='mean_squared_error', optimizer='adam')\n",
    "model.fit(X_train, y_train, epochs=100, batch_size=2, verbose=2)"
   ]
  },
  {
   "cell_type": "markdown",
   "metadata": {
    "id": "OsGZhA6HCkLz"
   },
   "source": [
    "# **Step 4- Performance Evaluation**"
   ]
  },
  {
   "cell_type": "code",
   "execution_count": 17,
   "metadata": {
    "colab": {
     "base_uri": "https://localhost:8080/"
    },
    "id": "CgqrgysDCfFc",
    "outputId": "57dc3c1b-853f-4a34-8a0e-076f11997db3"
   },
   "outputs": [
    {
     "name": "stdout",
     "output_type": "stream",
     "text": [
      " **** Performance of LSTM *****\n",
      "\u001b[1m1/1\u001b[0m \u001b[32m━━━━━━━━━━━━━━━━━━━━\u001b[0m\u001b[37m\u001b[0m \u001b[1m0s\u001b[0m 230ms/step\n",
      "MSE=  2829.911015858129\n",
      "MAE=  40.9885986328125\n",
      "MAPEE=  0.08714602624632042\n"
     ]
    }
   ],
   "source": [
    "print(\" **** Performance of LSTM *****\")\n",
    "y_pred_lstm=model.predict(X_test)\n",
    "mse=mean_squared_error(y_test,y_pred_lstm)\n",
    "mae=mean_absolute_error(y_test,y_pred_lstm)\n",
    "mape=mean_absolute_percentage_error(y_test,y_pred_lstm)\n",
    "print(\"MSE= \",mse)\n",
    "print(\"MAE= \",mae)\n",
    "print(\"MAPEE= \",mape)\n"
   ]
  },
  {
   "cell_type": "code",
   "execution_count": 18,
   "metadata": {
    "colab": {
     "base_uri": "https://localhost:8080/",
     "height": 489
    },
    "id": "_rqeN1BUDBr5",
    "outputId": "fb6d6d50-becf-42bb-bd0b-716e6d449614"
   },
   "outputs": [
    {
     "data": {
      "text/plain": [
       "<matplotlib.legend.Legend at 0x15a09084bd0>"
      ]
     },
     "execution_count": 18,
     "metadata": {},
     "output_type": "execute_result"
    },
    {
     "data": {
      "image/png": "[encoded data removed]",
      "text/plain": [
       "<Figure size 640x480 with 1 Axes>"
      ]
     },
     "metadata": {},
     "output_type": "display_data"
    }
   ],
   "source": [
    "plt.xlabel(\"Month\")\n",
    "plt.ylabel(\"Number of Passenger\")\n",
    "plt.plot(y_test,color='red',label='Real')\n",
    "plt.plot(y_pred_lstm,color='blue',label='LSTM Regression')\n",
    "plt.title(\"ML Experimental Study for Airline Passengers Forecasting\")\n",
    "plt.legend()"
   ]
  },
  {
   "cell_type": "code",
   "execution_count": null,
   "metadata": {
    "id": "-TuyDVSGDZnF"
   },
   "outputs": [],
   "source": []
  },
  {
   "cell_type": "code",
   "execution_count": null,
   "metadata": {},
   "outputs": [],
   "source": []
  },
  {
   "cell_type": "code",
   "execution_count": null,
   "metadata": {},
   "outputs": [],
   "source": []
  }
 ],
 "metadata": {
  "colab": {
   "provenance": []
  },
  "kernelspec": {
   "display_name": "Python 3 (ipykernel)",
   "language": "python",
   "name": "python3"
  },
  "language_info": {
   "codemirror_mode": {
    "name": "ipython",
    "version": 3
   },
   "file_extension": ".py",
   "mimetype": "text/x-python",
   "name": "python",
   "nbconvert_exporter": "python",
   "pygments_lexer": "ipython3",
   "version": "3.11.5"
  }
 },
 "nbformat": 4,
 "nbformat_minor": 4
}
